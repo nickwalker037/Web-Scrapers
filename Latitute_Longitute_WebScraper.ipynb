{
 "cells": [
  {
   "cell_type": "code",
   "execution_count": 165,
   "metadata": {},
   "outputs": [],
   "source": [
    "import pandas as pd\n",
    "import numpy as np\n",
    "import requests"
   ]
  },
  {
   "cell_type": "code",
   "execution_count": 177,
   "metadata": {},
   "outputs": [],
   "source": [
    "path = r\"C:\\Users\\nicholas\\Desktop\\Python\\WebScraper\\Medical_Data_UpWork\\AdditionalFiles\\Nps_Integrative_Chiro.csv\""
   ]
  },
  {
   "cell_type": "code",
   "execution_count": 178,
   "metadata": {},
   "outputs": [],
   "source": [
    "df = pd.read_csv(path, encoding='windows-1252')"
   ]
  },
  {
   "cell_type": "code",
   "execution_count": 179,
   "metadata": {},
   "outputs": [
    {
     "data": {
      "text/html": [
       "<div>\n",
       "<style scoped>\n",
       "    .dataframe tbody tr th:only-of-type {\n",
       "        vertical-align: middle;\n",
       "    }\n",
       "\n",
       "    .dataframe tbody tr th {\n",
       "        vertical-align: top;\n",
       "    }\n",
       "\n",
       "    .dataframe thead th {\n",
       "        text-align: right;\n",
       "    }\n",
       "</style>\n",
       "<table border=\"1\" class=\"dataframe\">\n",
       "  <thead>\n",
       "    <tr style=\"text-align: right;\">\n",
       "      <th></th>\n",
       "      <th>Personal First Name</th>\n",
       "      <th>Personal Last Name</th>\n",
       "      <th>Business Location Street</th>\n",
       "      <th>Business Location City</th>\n",
       "      <th>Business Location State</th>\n",
       "      <th>Business Location Zip</th>\n",
       "      <th>Full_Address</th>\n",
       "      <th>Business Name</th>\n",
       "      <th>Type</th>\n",
       "      <th>Field</th>\n",
       "      <th>Location Lat</th>\n",
       "      <th>Location Long</th>\n",
       "      <th>Personal Title</th>\n",
       "      <th>Personal Email</th>\n",
       "      <th>Business Website</th>\n",
       "      <th>Domain</th>\n",
       "      <th>Business Description</th>\n",
       "    </tr>\n",
       "  </thead>\n",
       "  <tbody>\n",
       "    <tr>\n",
       "      <th>0</th>\n",
       "      <td>KAREN</td>\n",
       "      <td>SHELDON</td>\n",
       "      <td>230 MAIN ST</td>\n",
       "      <td>AGAWAM</td>\n",
       "      <td>MA</td>\n",
       "      <td>1001</td>\n",
       "      <td>230 MAIN ST, AGAWAM, MA 01001</td>\n",
       "      <td>RIVERBEND MEDICAL GROUP</td>\n",
       "      <td>NaN</td>\n",
       "      <td>NURSES-PRACTITIONERS</td>\n",
       "      <td>NaN</td>\n",
       "      <td>NaN</td>\n",
       "      <td>NaN</td>\n",
       "      <td>KSHELDON@RIVERBENDMEDICAL.COM</td>\n",
       "      <td>RIVERBENDMEDICAL.COM</td>\n",
       "      <td>RIVERBENDMEDICAL.COM</td>\n",
       "      <td>NaN</td>\n",
       "    </tr>\n",
       "    <tr>\n",
       "      <th>1</th>\n",
       "      <td>GARY</td>\n",
       "      <td>GORMAN</td>\n",
       "      <td>230 MAIN ST</td>\n",
       "      <td>AGAWAM</td>\n",
       "      <td>MA</td>\n",
       "      <td>1001</td>\n",
       "      <td>230 MAIN ST, AGAWAM, MA 01001</td>\n",
       "      <td>RIVERBEND MEDICAL GROUP</td>\n",
       "      <td>NaN</td>\n",
       "      <td>CHIROPRACTORS DC</td>\n",
       "      <td>NaN</td>\n",
       "      <td>NaN</td>\n",
       "      <td>NaN</td>\n",
       "      <td>GGORMAN@RIVERBENDMEDICAL.COM</td>\n",
       "      <td>RIVERBENDMEDICAL.COM</td>\n",
       "      <td>RIVERBENDMEDICAL.COM</td>\n",
       "      <td>NaN</td>\n",
       "    </tr>\n",
       "    <tr>\n",
       "      <th>2</th>\n",
       "      <td>CHRISTINE</td>\n",
       "      <td>HORN</td>\n",
       "      <td>150 INFIRMARY WAY</td>\n",
       "      <td>AMHERST</td>\n",
       "      <td>MA</td>\n",
       "      <td>1003</td>\n",
       "      <td>150 INFIRMARY WAY, AMHERST, MA 01003</td>\n",
       "      <td>UNIVERSITY HEALTH SVC</td>\n",
       "      <td>NaN</td>\n",
       "      <td>NURSES-PRACTITIONERS</td>\n",
       "      <td>NaN</td>\n",
       "      <td>NaN</td>\n",
       "      <td>NaN</td>\n",
       "      <td>CHORN@UMASSONLINE.NET</td>\n",
       "      <td>UNIVERSITYHEALTHSERVICES.COM</td>\n",
       "      <td>UMASSONLINE.NET</td>\n",
       "      <td>NaN</td>\n",
       "    </tr>\n",
       "    <tr>\n",
       "      <th>3</th>\n",
       "      <td>KEITH</td>\n",
       "      <td>MCCORMICK</td>\n",
       "      <td>145 OLD AMHERST RD</td>\n",
       "      <td>BELCHERTOWN</td>\n",
       "      <td>MA</td>\n",
       "      <td>1007</td>\n",
       "      <td>145 OLD AMHERST RD, BELCHERTOWN, MA 01007</td>\n",
       "      <td>NEW ENGLAND CHIROPRACTIC</td>\n",
       "      <td>NaN</td>\n",
       "      <td>CHIROPRACTORS DC</td>\n",
       "      <td>NaN</td>\n",
       "      <td>NaN</td>\n",
       "      <td>NaN</td>\n",
       "      <td>KEITH@OSTEONATURALS.COM</td>\n",
       "      <td>NEC2.NET</td>\n",
       "      <td>OSTEONATURALS.COM</td>\n",
       "      <td>NaN</td>\n",
       "    </tr>\n",
       "    <tr>\n",
       "      <th>4</th>\n",
       "      <td>JOHN</td>\n",
       "      <td>GLOGOWSKI</td>\n",
       "      <td>262 NEW LUDLOW RD</td>\n",
       "      <td>CHICOPEE</td>\n",
       "      <td>MA</td>\n",
       "      <td>1020</td>\n",
       "      <td>262 NEW LUDLOW RD, CHICOPEE, MA 01020</td>\n",
       "      <td>WESTERN MASS PHYSICIAN ASSOC</td>\n",
       "      <td>NaN</td>\n",
       "      <td>NURSES-PRACTITIONERS</td>\n",
       "      <td>NaN</td>\n",
       "      <td>NaN</td>\n",
       "      <td>NaN</td>\n",
       "      <td>JOHN_GLOGOWSKI@HOLYOKEHEALTH.COM</td>\n",
       "      <td>HOLYOKEHEALTH.COM</td>\n",
       "      <td>HOLYOKEHEALTH.COM</td>\n",
       "      <td>NaN</td>\n",
       "    </tr>\n",
       "  </tbody>\n",
       "</table>\n",
       "</div>"
      ],
      "text/plain": [
       "  Personal First Name Personal Last Name Business Location Street  \\\n",
       "0               KAREN            SHELDON              230 MAIN ST   \n",
       "1                GARY             GORMAN              230 MAIN ST   \n",
       "2           CHRISTINE               HORN        150 INFIRMARY WAY   \n",
       "3               KEITH          MCCORMICK       145 OLD AMHERST RD   \n",
       "4                JOHN          GLOGOWSKI        262 NEW LUDLOW RD   \n",
       "\n",
       "  Business Location City Business Location State  Business Location Zip  \\\n",
       "0                 AGAWAM                      MA                   1001   \n",
       "1                 AGAWAM                      MA                   1001   \n",
       "2                AMHERST                      MA                   1003   \n",
       "3            BELCHERTOWN                      MA                   1007   \n",
       "4               CHICOPEE                      MA                   1020   \n",
       "\n",
       "                                Full_Address                 Business Name  \\\n",
       "0              230 MAIN ST, AGAWAM, MA 01001       RIVERBEND MEDICAL GROUP   \n",
       "1              230 MAIN ST, AGAWAM, MA 01001       RIVERBEND MEDICAL GROUP   \n",
       "2       150 INFIRMARY WAY, AMHERST, MA 01003         UNIVERSITY HEALTH SVC   \n",
       "3  145 OLD AMHERST RD, BELCHERTOWN, MA 01007      NEW ENGLAND CHIROPRACTIC   \n",
       "4      262 NEW LUDLOW RD, CHICOPEE, MA 01020  WESTERN MASS PHYSICIAN ASSOC   \n",
       "\n",
       "   Type                 Field  Location Lat  Location Long Personal Title  \\\n",
       "0   NaN  NURSES-PRACTITIONERS           NaN            NaN            NaN   \n",
       "1   NaN      CHIROPRACTORS DC           NaN            NaN            NaN   \n",
       "2   NaN  NURSES-PRACTITIONERS           NaN            NaN            NaN   \n",
       "3   NaN      CHIROPRACTORS DC           NaN            NaN            NaN   \n",
       "4   NaN  NURSES-PRACTITIONERS           NaN            NaN            NaN   \n",
       "\n",
       "                     Personal Email              Business Website  \\\n",
       "0     KSHELDON@RIVERBENDMEDICAL.COM          RIVERBENDMEDICAL.COM   \n",
       "1      GGORMAN@RIVERBENDMEDICAL.COM          RIVERBENDMEDICAL.COM   \n",
       "2             CHORN@UMASSONLINE.NET  UNIVERSITYHEALTHSERVICES.COM   \n",
       "3           KEITH@OSTEONATURALS.COM                      NEC2.NET   \n",
       "4  JOHN_GLOGOWSKI@HOLYOKEHEALTH.COM             HOLYOKEHEALTH.COM   \n",
       "\n",
       "                 Domain Business Description  \n",
       "0  RIVERBENDMEDICAL.COM                  NaN  \n",
       "1  RIVERBENDMEDICAL.COM                  NaN  \n",
       "2       UMASSONLINE.NET                  NaN  \n",
       "3     OSTEONATURALS.COM                  NaN  \n",
       "4     HOLYOKEHEALTH.COM                  NaN  "
      ]
     },
     "execution_count": 179,
     "metadata": {},
     "output_type": "execute_result"
    }
   ],
   "source": [
    "df.head()"
   ]
  },
  {
   "cell_type": "code",
   "execution_count": 181,
   "metadata": {},
   "outputs": [
    {
     "data": {
      "text/plain": [
       "'GGORMAN@RIVERBENDMEDICAL.COM'"
      ]
     },
     "execution_count": 181,
     "metadata": {},
     "output_type": "execute_result"
    }
   ],
   "source": [
    "df.iloc[1,13]"
   ]
  },
  {
   "cell_type": "code",
   "execution_count": 202,
   "metadata": {},
   "outputs": [
    {
     "name": "stdout",
     "output_type": "stream",
     "text": [
      "6000\n",
      "6020\n",
      "6040\n",
      "6060\n",
      "6080\n",
      "6100\n",
      "6120\n",
      "6140\n",
      "6160\n",
      "6180\n",
      "6200\n",
      "6220\n",
      "6240\n",
      "6260\n",
      "6280\n",
      "6300\n",
      "6320\n",
      "6340\n",
      "6360\n",
      "6380\n",
      "6400\n",
      "6420\n",
      "6440\n",
      "6460\n",
      "6480\n",
      "6500\n",
      "6520\n",
      "6540\n",
      "6560\n",
      "6580\n",
      "6600\n",
      "6620\n",
      "6640\n",
      "6660\n",
      "6680\n",
      "6700\n",
      "6720\n",
      "6740\n",
      "6760\n",
      "6780\n",
      "6800\n",
      "6820\n",
      "6840\n",
      "6860\n",
      "6880\n",
      "6900\n",
      "6920\n",
      "6940\n",
      "6960\n",
      "6980\n",
      "7000\n",
     ]
    }
   ],
   "source": [
    "for i in range(6000,7617):\n",
    "    time.sleep(1)\n",
    "    driver.implicitly_wait(2)\n",
    "    address = df.iloc[i,6]\n",
    "    address = address.replace(\".\",\"\")\n",
    "    address = address.replace(\"#\",\"\")\n",
    "    address = address.replace(\" \",\"+\")\n",
    "    address\n",
    "    \n",
    "    link = 'https://maps.googleapis.com/maps/api/geocode/json?address=' + address + '&key=hithere'\n",
    "    response = requests.get(link)\n",
    "\n",
    "    resp_json_payload = response.json()\n",
    "    lat = resp_json_payload['results'][0]['geometry']['location']['lat']\n",
    "    long = resp_json_payload['results'][0]['geometry']['location']['lng']\n",
    "    \n",
    "    df.iloc[i,10] = lat\n",
    "    df.iloc[i,11] = long\n",
    "    lat = ''\n",
    "    long = ''\n",
    "    if i % 20 == 0:\n",
    "        print(i)"
   ]
  },
  {
   "cell_type": "code",
   "execution_count": 201,
   "metadata": {},
   "outputs": [
    {
     "data": {
      "text/plain": [
       "Personal First Name         7617\n",
       "Personal Last Name          7617\n",
       "Business Location Street    7617\n",
       "Business Location City      7617\n",
       "Business Location State     7617\n",
       "Business Location Zip       7617\n",
       "Full_Address                7617\n",
       "Business Name               7617\n",
       "Type                           0\n",
       "Field                       7617\n",
       "Location Lat                5997\n",
       "Location Long               5997\n",
       "Personal Title                81\n",
       "Personal Email              7617\n",
       "Business Website            4957\n",
       "Domain                      7617\n",
       "Business Description        1388\n",
       "dtype: int64"
      ]
     },
     "execution_count": 201,
     "metadata": {},
     "output_type": "execute_result"
    }
   ],
   "source": [
    "df.count()"
   ]
  },
  {
   "cell_type": "code",
   "execution_count": 203,
   "metadata": {},
   "outputs": [],
   "source": [
    "df.to_csv(r\"C:\\Users\\nicholas\\Desktop\\Python\\WebScraper\\Medical_Data_UpWork\\AdditionalFiles\\NPs_Integrative_Chiro_FINAL.csv\")"
   ]
  },
  {
   "cell_type": "code",
   "execution_count": 58,
   "metadata": {},
   "outputs": [
    {
     "name": "stdout",
     "output_type": "stream",
     "text": [
      "{'lat': 45.3839784, 'lng': -122.7591635}\n"
     ]
    }
   ],
   "source": [
    "\n",
    "print(resp_json_payload['results'][0]['geometry']['location'])"
   ]
  },
  {
   "cell_type": "code",
   "execution_count": 59,
   "metadata": {},
   "outputs": [
    {
     "data": {
      "text/plain": [
       "45.3839784"
      ]
     },
     "execution_count": 59,
     "metadata": {},
     "output_type": "execute_result"
    }
   ],
   "source": [
    "resp_json_payload['results'][0]['geometry']['location']['lat']"
   ]
  },
  {
   "cell_type": "code",
   "execution_count": 65,
   "metadata": {},
   "outputs": [
    {
     "data": {
      "text/plain": [
       "-122.5839629"
      ]
     },
     "execution_count": 65,
     "metadata": {},
     "output_type": "execute_result"
    }
   ],
   "source": [
    "df.iloc[29,8]"
   ]
  },
  {
   "cell_type": "code",
   "execution_count": 97,
   "metadata": {},
   "outputs": [],
   "source": [
    "df.to_csv(r\"C:\\Users\\nicholas\\Desktop\\Python\\WebScraper\\Medical_Data_UpWork\\data\\df_LatLongAll.csv\")"
   ]
  },
  {
   "cell_type": "code",
   "execution_count": 73,
   "metadata": {},
   "outputs": [
    {
     "data": {
      "text/plain": [
       "'6601+Sugarloaf+Pkwy+Ste+220+Duluth,+GA+30097-4936'"
      ]
     },
     "execution_count": 73,
     "metadata": {},
     "output_type": "execute_result"
    }
   ],
   "source": [
    "address"
   ]
  },
  {
   "cell_type": "code",
   "execution_count": 74,
   "metadata": {},
   "outputs": [
    {
     "data": {
      "text/plain": [
       "FirstName                                                    Truc\n",
       "LastName                                                   Nguyen\n",
       "Street                                6601 Sugarloaf Pkwy Ste 220\n",
       "City                                                       Duluth\n",
       "State                                                          GA\n",
       "Zip                                                    30097-4936\n",
       "Address_Full    6601 Sugarloaf Pkwy Ste 220 Duluth, GA 30097-4936\n",
       "Lat                                                              \n",
       "Long                                                             \n",
       "Name: 527, dtype: object"
      ]
     },
     "execution_count": 74,
     "metadata": {},
     "output_type": "execute_result"
    }
   ],
   "source": [
    "df.iloc[527]"
   ]
  },
  {
   "cell_type": "code",
   "execution_count": 159,
   "metadata": {},
   "outputs": [],
   "source": [
    "address = '4334 W Central Avenue-Suite 219, Toledo, OH'"
   ]
  },
  {
   "cell_type": "code",
   "execution_count": 160,
   "metadata": {},
   "outputs": [],
   "source": [
    "address = address.replace(\".\",\"\")\n",
    "address = address.replace(\"#\",\"\")\n",
    "address = address.replace(\" \",\"+\")\n",
    "\n",
    "link = 'https://maps.googleapis.com/maps/api/geocode/json?address=' + address + '&key=hithere'\n",
    "response = requests.get(link)\n",
    "\n",
    "resp_json_payload = response.json()"
   ]
  },
  {
   "cell_type": "code",
   "execution_count": 161,
   "metadata": {},
   "outputs": [],
   "source": [
    "lat = resp_json_payload['results'][0]['geometry']['location']['lat']\n",
    "long = resp_json_payload['results'][0]['geometry']['location']['lng']\n",
    "    "
   ]
  },
  {
   "cell_type": "code",
   "execution_count": 162,
   "metadata": {},
   "outputs": [
    {
     "data": {
      "text/plain": [
       "41.6773977"
      ]
     },
     "execution_count": 162,
     "metadata": {},
     "output_type": "execute_result"
    }
   ],
   "source": [
    "lat"
   ]
  },
  {
   "cell_type": "code",
   "execution_count": 163,
   "metadata": {},
   "outputs": [
    {
     "data": {
      "text/plain": [
       "-83.6452065"
      ]
     },
     "execution_count": 163,
     "metadata": {},
     "output_type": "execute_result"
    }
   ],
   "source": [
    "long"
   ]
  },
  {
   "cell_type": "code",
   "execution_count": 164,
   "metadata": {},
   "outputs": [
    {
     "data": {
      "text/plain": [
       "32.8854932"
      ]
     },
     "execution_count": 164,
     "metadata": {},
     "output_type": "execute_result"
    }
   ],
   "source": [
    "df.iloc[1230,7]f\n"
   ]
  },
  {
   "cell_type": "code",
   "execution_count": 131,
   "metadata": {},
   "outputs": [
    {
     "data": {
      "text/plain": [
       "-96.7677525"
      ]
     },
     "execution_count": 131,
     "metadata": {},
     "output_type": "execute_result"
    }
   ],
   "source": [
    "df.iloc[1230,8]"
   ]
  },
  {
   "cell_type": "code",
   "execution_count": 129,
   "metadata": {},
   "outputs": [
    {
     "data": {
      "text/plain": [
       "'10260 N Central Expressway Suite 210 Dallas, AK 75231'"
      ]
     },
     "execution_count": 129,
     "metadata": {},
     "output_type": "execute_result"
    }
   ],
   "source": [
    "df.iloc[1230,6]"
   ]
  },
  {
   "cell_type": "code",
   "execution_count": 189,
   "metadata": {},
   "outputs": [
    {
     "data": {
      "text/plain": [
       "'551856+US+HIGHWAY+1++105,+HILLIARD,+FL+32046'"
      ]
     },
     "execution_count": 189,
     "metadata": {},
     "output_type": "execute_result"
    }
   ],
   "source": [
    "address"
   ]
  },
  {
   "cell_type": "code",
   "execution_count": 197,
   "metadata": {},
   "outputs": [
    {
     "data": {
      "text/plain": [
       "4542"
      ]
     },
     "execution_count": 197,
     "metadata": {},
     "output_type": "execute_result"
    }
   ],
   "source": [
    "i"
   ]
  },
  {
   "cell_type": "code",
   "execution_count": null,
   "metadata": {},
   "outputs": [],
   "source": []
  }
 ],
 "metadata": {
  "kernelspec": {
   "display_name": "Python 3",
   "language": "python",
   "name": "python3"
  },
  "language_info": {
   "codemirror_mode": {
    "name": "ipython",
    "version": 3
   },
   "file_extension": ".py",
   "mimetype": "text/x-python",
   "name": "python",
   "nbconvert_exporter": "python",
   "pygments_lexer": "ipython3",
   "version": "3.7.2"
  }
 },
 "nbformat": 4,
 "nbformat_minor": 2
}
